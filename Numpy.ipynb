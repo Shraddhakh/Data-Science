{
  "nbformat": 4,
  "nbformat_minor": 0,
  "metadata": {
    "colab": {
      "name": "Day 1.ipynb",
      "provenance": []
    },
    "kernelspec": {
      "name": "python3",
      "display_name": "Python 3"
    }
  },
  "cells": [
    {
      "cell_type": "code",
      "metadata": {
        "id": "DHWttMTs228p"
      },
      "source": [
        "import numpy as np"
      ],
      "execution_count": 3,
      "outputs": []
    },
    {
      "cell_type": "code",
      "metadata": {
        "colab": {
          "base_uri": "https://localhost:8080/",
          "height": 0
        },
        "id": "gNccf9OU28Ot",
        "outputId": "919b85fd-6371-465c-e6a1-41d928af762d"
      },
      "source": [
        "a2 = np.array ([[1,2],[4,5],[6,7],[8,9]])\r\n",
        "print(a2)"
      ],
      "execution_count": 6,
      "outputs": [
        {
          "output_type": "stream",
          "text": [
            "[[1 2]\n",
            " [4 5]\n",
            " [6 7]\n",
            " [8 9]]\n"
          ],
          "name": "stdout"
        }
      ]
    },
    {
      "cell_type": "code",
      "metadata": {
        "colab": {
          "base_uri": "https://localhost:8080/",
          "height": 0
        },
        "id": "BvPbmZ353TJ2",
        "outputId": "52681b4f-e7fa-4679-98c6-340198686fc5"
      },
      "source": [
        "a2.ndim"
      ],
      "execution_count": 7,
      "outputs": [
        {
          "output_type": "execute_result",
          "data": {
            "text/plain": [
              "2"
            ]
          },
          "metadata": {
            "tags": []
          },
          "execution_count": 7
        }
      ]
    },
    {
      "cell_type": "code",
      "metadata": {
        "colab": {
          "base_uri": "https://localhost:8080/",
          "height": 0
        },
        "id": "hRn2GruR4B4u",
        "outputId": "33d30c20-1b27-4277-fe5a-195313cfcebe"
      },
      "source": [
        "a2[:]"
      ],
      "execution_count": 16,
      "outputs": [
        {
          "output_type": "execute_result",
          "data": {
            "text/plain": [
              "array([[1, 2],\n",
              "       [4, 5],\n",
              "       [6, 7],\n",
              "       [8, 9]])"
            ]
          },
          "metadata": {
            "tags": []
          },
          "execution_count": 16
        }
      ]
    },
    {
      "cell_type": "code",
      "metadata": {
        "colab": {
          "base_uri": "https://localhost:8080/",
          "height": 0
        },
        "id": "wkahQ7nX3VM9",
        "outputId": "65ec3013-6c79-4b8a-a18f-2d052feb1ab2"
      },
      "source": [
        "len(a2)"
      ],
      "execution_count": 8,
      "outputs": [
        {
          "output_type": "execute_result",
          "data": {
            "text/plain": [
              "4"
            ]
          },
          "metadata": {
            "tags": []
          },
          "execution_count": 8
        }
      ]
    },
    {
      "cell_type": "code",
      "metadata": {
        "colab": {
          "base_uri": "https://localhost:8080/",
          "height": 0
        },
        "id": "Y_mUXyld3XL7",
        "outputId": "44668541-e4b8-4b46-d0f3-161f2e9958bd"
      },
      "source": [
        "a2.shape"
      ],
      "execution_count": 9,
      "outputs": [
        {
          "output_type": "execute_result",
          "data": {
            "text/plain": [
              "(4, 2)"
            ]
          },
          "metadata": {
            "tags": []
          },
          "execution_count": 9
        }
      ]
    },
    {
      "cell_type": "code",
      "metadata": {
        "colab": {
          "base_uri": "https://localhost:8080/",
          "height": 0
        },
        "id": "Op538lNa3axc",
        "outputId": "138b7880-e405-46c3-faf4-892764686eb4"
      },
      "source": [
        "a3 = np.array([[1,2,4,5],[6,7,4,3],[60,70,40,30],[16,17,14,13],[26,27,24,23]])\r\n",
        "a3"
      ],
      "execution_count": 18,
      "outputs": [
        {
          "output_type": "execute_result",
          "data": {
            "text/plain": [
              "array([[ 1,  2,  4,  5],\n",
              "       [ 6,  7,  4,  3],\n",
              "       [60, 70, 40, 30],\n",
              "       [16, 17, 14, 13],\n",
              "       [26, 27, 24, 23]])"
            ]
          },
          "metadata": {
            "tags": []
          },
          "execution_count": 18
        }
      ]
    },
    {
      "cell_type": "code",
      "metadata": {
        "colab": {
          "base_uri": "https://localhost:8080/",
          "height": 0
        },
        "id": "AUQ3CYd03gEF",
        "outputId": "990fda9e-bb18-4b9a-ea54-dbd42e7c1d48"
      },
      "source": [
        "a3[2]"
      ],
      "execution_count": 19,
      "outputs": [
        {
          "output_type": "execute_result",
          "data": {
            "text/plain": [
              "array([60, 70, 40, 30])"
            ]
          },
          "metadata": {
            "tags": []
          },
          "execution_count": 19
        }
      ]
    },
    {
      "cell_type": "code",
      "metadata": {
        "colab": {
          "base_uri": "https://localhost:8080/",
          "height": 0
        },
        "id": "jGltBeBq3lYY",
        "outputId": "fcfafe5a-89aa-4854-eeff-f302f708d37b"
      },
      "source": [
        "a3[:]"
      ],
      "execution_count": 20,
      "outputs": [
        {
          "output_type": "execute_result",
          "data": {
            "text/plain": [
              "array([[ 1,  2,  4,  5],\n",
              "       [ 6,  7,  4,  3],\n",
              "       [60, 70, 40, 30],\n",
              "       [16, 17, 14, 13],\n",
              "       [26, 27, 24, 23]])"
            ]
          },
          "metadata": {
            "tags": []
          },
          "execution_count": 20
        }
      ]
    },
    {
      "cell_type": "code",
      "metadata": {
        "colab": {
          "base_uri": "https://localhost:8080/",
          "height": 0
        },
        "id": "g9wRH2Lw3rh9",
        "outputId": "12493e8e-64a8-4fa3-ba22-83aade73b6b9"
      },
      "source": [
        "a3[2:5]"
      ],
      "execution_count": 21,
      "outputs": [
        {
          "output_type": "execute_result",
          "data": {
            "text/plain": [
              "array([[60, 70, 40, 30],\n",
              "       [16, 17, 14, 13],\n",
              "       [26, 27, 24, 23]])"
            ]
          },
          "metadata": {
            "tags": []
          },
          "execution_count": 21
        }
      ]
    },
    {
      "cell_type": "code",
      "metadata": {
        "colab": {
          "base_uri": "https://localhost:8080/",
          "height": 0
        },
        "id": "Q0XHtpdL4NBx",
        "outputId": "25945516-b4fa-4666-f92f-5ecb21fbe4c3"
      },
      "source": [
        "a3.sum()"
      ],
      "execution_count": 22,
      "outputs": [
        {
          "output_type": "execute_result",
          "data": {
            "text/plain": [
              "392"
            ]
          },
          "metadata": {
            "tags": []
          },
          "execution_count": 22
        }
      ]
    },
    {
      "cell_type": "code",
      "metadata": {
        "colab": {
          "base_uri": "https://localhost:8080/",
          "height": 0
        },
        "id": "Nnbiovkn4ZBc",
        "outputId": "a3fb3390-b7ea-4df6-9d74-6cba6a9a54ad"
      },
      "source": [
        "a3.mean()"
      ],
      "execution_count": 23,
      "outputs": [
        {
          "output_type": "execute_result",
          "data": {
            "text/plain": [
              "19.6"
            ]
          },
          "metadata": {
            "tags": []
          },
          "execution_count": 23
        }
      ]
    },
    {
      "cell_type": "code",
      "metadata": {
        "colab": {
          "base_uri": "https://localhost:8080/",
          "height": 0
        },
        "id": "RhGZ8Xfi4bYI",
        "outputId": "8e8d7d8b-6afe-476e-cb09-df513ae8fd46"
      },
      "source": [
        "a3[:]"
      ],
      "execution_count": 24,
      "outputs": [
        {
          "output_type": "execute_result",
          "data": {
            "text/plain": [
              "array([[ 1,  2,  4,  5],\n",
              "       [ 6,  7,  4,  3],\n",
              "       [60, 70, 40, 30],\n",
              "       [16, 17, 14, 13],\n",
              "       [26, 27, 24, 23]])"
            ]
          },
          "metadata": {
            "tags": []
          },
          "execution_count": 24
        }
      ]
    },
    {
      "cell_type": "code",
      "metadata": {
        "colab": {
          "base_uri": "https://localhost:8080/",
          "height": 0
        },
        "id": "IgwXSKg34eHm",
        "outputId": "61438ae7-d454-482b-99b1-fb29bb4e871b"
      },
      "source": [
        "a3[2].sum"
      ],
      "execution_count": 25,
      "outputs": [
        {
          "output_type": "execute_result",
          "data": {
            "text/plain": [
              "<function ndarray.sum>"
            ]
          },
          "metadata": {
            "tags": []
          },
          "execution_count": 25
        }
      ]
    },
    {
      "cell_type": "code",
      "metadata": {
        "colab": {
          "base_uri": "https://localhost:8080/",
          "height": 0
        },
        "id": "rqfTAtb04jTP",
        "outputId": "9200670b-4456-4da0-a55e-77e080583473"
      },
      "source": [
        "a3[1:5 ,2]"
      ],
      "execution_count": 26,
      "outputs": [
        {
          "output_type": "execute_result",
          "data": {
            "text/plain": [
              "array([ 4, 40, 14, 24])"
            ]
          },
          "metadata": {
            "tags": []
          },
          "execution_count": 26
        }
      ]
    },
    {
      "cell_type": "code",
      "metadata": {
        "colab": {
          "base_uri": "https://localhost:8080/",
          "height": 0
        },
        "id": "Q8-3Ttff4nJv",
        "outputId": "0b084633-132a-4f6b-9654-7be65ae55ed3"
      },
      "source": [
        "a3[:,2]"
      ],
      "execution_count": 27,
      "outputs": [
        {
          "output_type": "execute_result",
          "data": {
            "text/plain": [
              "array([ 4,  4, 40, 14, 24])"
            ]
          },
          "metadata": {
            "tags": []
          },
          "execution_count": 27
        }
      ]
    },
    {
      "cell_type": "code",
      "metadata": {
        "colab": {
          "base_uri": "https://localhost:8080/",
          "height": 0
        },
        "id": "yHCHuEfB4sgO",
        "outputId": "fc383b98-2794-40e8-ebbe-9ac74c612e93"
      },
      "source": [
        "a3.sum(axis=0)"
      ],
      "execution_count": 28,
      "outputs": [
        {
          "output_type": "execute_result",
          "data": {
            "text/plain": [
              "array([109, 123,  86,  74])"
            ]
          },
          "metadata": {
            "tags": []
          },
          "execution_count": 28
        }
      ]
    },
    {
      "cell_type": "code",
      "metadata": {
        "colab": {
          "base_uri": "https://localhost:8080/",
          "height": 0
        },
        "id": "hF9-Xcmv5OYG",
        "outputId": "df3868a2-fcad-43bf-d710-6cfc24ae2d2e"
      },
      "source": [
        "a3.sum(axis=0)[2]"
      ],
      "execution_count": 30,
      "outputs": [
        {
          "output_type": "execute_result",
          "data": {
            "text/plain": [
              "86"
            ]
          },
          "metadata": {
            "tags": []
          },
          "execution_count": 30
        }
      ]
    },
    {
      "cell_type": "code",
      "metadata": {
        "colab": {
          "base_uri": "https://localhost:8080/",
          "height": 0
        },
        "id": "cEXV-ASJ5Vqx",
        "outputId": "d84a1955-2e59-44bc-f8d2-5f923fbf7112"
      },
      "source": [
        "a3.sum(axis =1)"
      ],
      "execution_count": 31,
      "outputs": [
        {
          "output_type": "execute_result",
          "data": {
            "text/plain": [
              "array([ 12,  20, 200,  60, 100])"
            ]
          },
          "metadata": {
            "tags": []
          },
          "execution_count": 31
        }
      ]
    },
    {
      "cell_type": "code",
      "metadata": {
        "colab": {
          "base_uri": "https://localhost:8080/",
          "height": 0
        },
        "id": "jCVbxLHD500G",
        "outputId": "66a803df-2bbc-4cce-9090-965fc1c1036c"
      },
      "source": [
        "a3.shape"
      ],
      "execution_count": 32,
      "outputs": [
        {
          "output_type": "execute_result",
          "data": {
            "text/plain": [
              "(5, 4)"
            ]
          },
          "metadata": {
            "tags": []
          },
          "execution_count": 32
        }
      ]
    },
    {
      "cell_type": "code",
      "metadata": {
        "colab": {
          "base_uri": "https://localhost:8080/",
          "height": 0
        },
        "id": "lUZJd6XR57PL",
        "outputId": "384743df-e00f-4c73-a090-b749108cf31f"
      },
      "source": [
        "a3.reshape(4,5)"
      ],
      "execution_count": 33,
      "outputs": [
        {
          "output_type": "execute_result",
          "data": {
            "text/plain": [
              "array([[ 1,  2,  4,  5,  6],\n",
              "       [ 7,  4,  3, 60, 70],\n",
              "       [40, 30, 16, 17, 14],\n",
              "       [13, 26, 27, 24, 23]])"
            ]
          },
          "metadata": {
            "tags": []
          },
          "execution_count": 33
        }
      ]
    },
    {
      "cell_type": "code",
      "metadata": {
        "colab": {
          "base_uri": "https://localhost:8080/",
          "height": 0
        },
        "id": "9KX_Jup46Gqy",
        "outputId": "6b9e9df8-1082-4103-f015-ceb261aad1d0"
      },
      "source": [
        "a3.shape"
      ],
      "execution_count": 34,
      "outputs": [
        {
          "output_type": "execute_result",
          "data": {
            "text/plain": [
              "(5, 4)"
            ]
          },
          "metadata": {
            "tags": []
          },
          "execution_count": 34
        }
      ]
    },
    {
      "cell_type": "code",
      "metadata": {
        "colab": {
          "base_uri": "https://localhost:8080/",
          "height": 0
        },
        "id": "b4cy_n-W6XAq",
        "outputId": "74129283-f2d8-46e4-fd45-6668436adece"
      },
      "source": [
        "a3.T"
      ],
      "execution_count": 36,
      "outputs": [
        {
          "output_type": "execute_result",
          "data": {
            "text/plain": [
              "array([[ 1,  6, 60, 16, 26],\n",
              "       [ 2,  7, 70, 17, 27],\n",
              "       [ 4,  4, 40, 14, 24],\n",
              "       [ 5,  3, 30, 13, 23]])"
            ]
          },
          "metadata": {
            "tags": []
          },
          "execution_count": 36
        }
      ]
    },
    {
      "cell_type": "code",
      "metadata": {
        "colab": {
          "base_uri": "https://localhost:8080/",
          "height": 0
        },
        "id": "UiPM45Ff6bCk",
        "outputId": "e410d126-ceb1-4559-cdaf-05f3bfb9ce9e"
      },
      "source": [
        "np.linspace(10 ,100 ,50)"
      ],
      "execution_count": 37,
      "outputs": [
        {
          "output_type": "execute_result",
          "data": {
            "text/plain": [
              "array([ 10.        ,  11.83673469,  13.67346939,  15.51020408,\n",
              "        17.34693878,  19.18367347,  21.02040816,  22.85714286,\n",
              "        24.69387755,  26.53061224,  28.36734694,  30.20408163,\n",
              "        32.04081633,  33.87755102,  35.71428571,  37.55102041,\n",
              "        39.3877551 ,  41.2244898 ,  43.06122449,  44.89795918,\n",
              "        46.73469388,  48.57142857,  50.40816327,  52.24489796,\n",
              "        54.08163265,  55.91836735,  57.75510204,  59.59183673,\n",
              "        61.42857143,  63.26530612,  65.10204082,  66.93877551,\n",
              "        68.7755102 ,  70.6122449 ,  72.44897959,  74.28571429,\n",
              "        76.12244898,  77.95918367,  79.79591837,  81.63265306,\n",
              "        83.46938776,  85.30612245,  87.14285714,  88.97959184,\n",
              "        90.81632653,  92.65306122,  94.48979592,  96.32653061,\n",
              "        98.16326531, 100.        ])"
            ]
          },
          "metadata": {
            "tags": []
          },
          "execution_count": 37
        }
      ]
    },
    {
      "cell_type": "code",
      "metadata": {
        "colab": {
          "base_uri": "https://localhost:8080/",
          "height": 0
        },
        "id": "y63bFsZf6kCE",
        "outputId": "0fe01576-002d-48ca-9b9a-9b815900ccce"
      },
      "source": [
        "np.linspace(10 ,100 ,50 , retstep=True)"
      ],
      "execution_count": 38,
      "outputs": [
        {
          "output_type": "execute_result",
          "data": {
            "text/plain": [
              "(array([ 10.        ,  11.83673469,  13.67346939,  15.51020408,\n",
              "         17.34693878,  19.18367347,  21.02040816,  22.85714286,\n",
              "         24.69387755,  26.53061224,  28.36734694,  30.20408163,\n",
              "         32.04081633,  33.87755102,  35.71428571,  37.55102041,\n",
              "         39.3877551 ,  41.2244898 ,  43.06122449,  44.89795918,\n",
              "         46.73469388,  48.57142857,  50.40816327,  52.24489796,\n",
              "         54.08163265,  55.91836735,  57.75510204,  59.59183673,\n",
              "         61.42857143,  63.26530612,  65.10204082,  66.93877551,\n",
              "         68.7755102 ,  70.6122449 ,  72.44897959,  74.28571429,\n",
              "         76.12244898,  77.95918367,  79.79591837,  81.63265306,\n",
              "         83.46938776,  85.30612245,  87.14285714,  88.97959184,\n",
              "         90.81632653,  92.65306122,  94.48979592,  96.32653061,\n",
              "         98.16326531, 100.        ]), 1.836734693877551)"
            ]
          },
          "metadata": {
            "tags": []
          },
          "execution_count": 38
        }
      ]
    },
    {
      "cell_type": "code",
      "metadata": {
        "colab": {
          "base_uri": "https://localhost:8080/",
          "height": 0
        },
        "id": "-iB0ibW_6uW-",
        "outputId": "7e2e74cb-d323-4186-83c2-ec50afffc7fe"
      },
      "source": [
        "np.arange(10,100,5)"
      ],
      "execution_count": 39,
      "outputs": [
        {
          "output_type": "execute_result",
          "data": {
            "text/plain": [
              "array([10, 15, 20, 25, 30, 35, 40, 45, 50, 55, 60, 65, 70, 75, 80, 85, 90,\n",
              "       95])"
            ]
          },
          "metadata": {
            "tags": []
          },
          "execution_count": 39
        }
      ]
    },
    {
      "cell_type": "code",
      "metadata": {
        "colab": {
          "base_uri": "https://localhost:8080/",
          "height": 0
        },
        "id": "KNh45KGy60Vf",
        "outputId": "31582843-eaeb-434c-b246-b7a0be5bb30f"
      },
      "source": [
        "np.random.randint(100)"
      ],
      "execution_count": 40,
      "outputs": [
        {
          "output_type": "execute_result",
          "data": {
            "text/plain": [
              "86"
            ]
          },
          "metadata": {
            "tags": []
          },
          "execution_count": 40
        }
      ]
    },
    {
      "cell_type": "code",
      "metadata": {
        "colab": {
          "base_uri": "https://localhost:8080/",
          "height": 0
        },
        "id": "RQRxRtgy7C55",
        "outputId": "026e06ce-3a53-490a-c927-dfb9d79beb6b"
      },
      "source": [
        "np.random.randint(50,100)"
      ],
      "execution_count": 41,
      "outputs": [
        {
          "output_type": "execute_result",
          "data": {
            "text/plain": [
              "53"
            ]
          },
          "metadata": {
            "tags": []
          },
          "execution_count": 41
        }
      ]
    },
    {
      "cell_type": "code",
      "metadata": {
        "colab": {
          "base_uri": "https://localhost:8080/",
          "height": 0
        },
        "id": "DRfLEfUK7IyC",
        "outputId": "42c83395-2f55-47d1-c443-05033f8a1141"
      },
      "source": [
        "np.random.randint(50,100,7)"
      ],
      "execution_count": 42,
      "outputs": [
        {
          "output_type": "execute_result",
          "data": {
            "text/plain": [
              "array([99, 62, 77, 83, 53, 85, 75])"
            ]
          },
          "metadata": {
            "tags": []
          },
          "execution_count": 42
        }
      ]
    },
    {
      "cell_type": "code",
      "metadata": {
        "id": "Wb1_m8se7aAE"
      },
      "source": [
        "np.random.seed(53)"
      ],
      "execution_count": 49,
      "outputs": []
    },
    {
      "cell_type": "code",
      "metadata": {
        "colab": {
          "base_uri": "https://localhost:8080/",
          "height": 0
        },
        "id": "hh5CC8_S7iE4",
        "outputId": "a5a0ebf5-a8e0-4685-c4f3-7a20ce325249"
      },
      "source": [
        "np.random.seed(53)\r\n",
        "np.random.randint(100000,999999)"
      ],
      "execution_count": 51,
      "outputs": [
        {
          "output_type": "execute_result",
          "data": {
            "text/plain": [
              "289213"
            ]
          },
          "metadata": {
            "tags": []
          },
          "execution_count": 51
        }
      ]
    },
    {
      "cell_type": "code",
      "metadata": {
        "colab": {
          "base_uri": "https://localhost:8080/",
          "height": 0
        },
        "id": "fbqyUqdH73X1",
        "outputId": "7cfcbef6-d536-4959-f265-e0dbf51e3058"
      },
      "source": [
        "np.random.random(5)"
      ],
      "execution_count": 53,
      "outputs": [
        {
          "output_type": "execute_result",
          "data": {
            "text/plain": [
              "array([0.56116554, 0.4548754 , 0.35217491, 0.58585138, 0.53574974])"
            ]
          },
          "metadata": {
            "tags": []
          },
          "execution_count": 53
        }
      ]
    },
    {
      "cell_type": "code",
      "metadata": {
        "id": "HEvzSqBi7-0v"
      },
      "source": [
        ""
      ],
      "execution_count": null,
      "outputs": []
    }
  ]
}